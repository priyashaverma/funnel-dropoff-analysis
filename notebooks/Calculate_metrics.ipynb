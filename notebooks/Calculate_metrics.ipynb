{
 "cells": [
  {
   "cell_type": "code",
   "execution_count": null,
   "metadata": {},
   "outputs": [
    {
     "name": "stdout",
     "output_type": "stream",
     "text": [
      "Loading processed data...\n",
      "Calculating funnel metrics...\n",
      "Funnel metrics calculated:\n",
      "               event  users  conversion_rate  drop_off_pct\n",
      "0       landing_page   5000            1.000           0.0\n",
      "1       product_view   3321            0.664          33.6\n",
      "2        add_to_cart   1819            0.364          45.2\n",
      "3     checkout_start    765            0.153          57.9\n",
      "4  purchase_complete    590            0.118          22.9\n",
      "\n",
      "Overall conversion rate: 11.8%\n",
      "Biggest drop-off at: checkout_start (57.9%)\n"
     ]
    }
   ],
   "source": [
    "\n",
    "import pandas as pd\n",
    "\n",
    "print(\"Loading processed data...\")\n",
    "df = pd.read_csv('processed_funnel_data.csv', parse_dates=['timestamp'])\n",
    "\n",
    "\n",
    "funnel_stages = [\n",
    "    'landing_page',\n",
    "    'product_view',\n",
    "    'add_to_cart',\n",
    "    'checkout_start',\n",
    "    'purchase_complete'\n",
    "]\n",
    "\n",
    "\n",
    "print(\"Calculating funnel metrics...\")\n",
    "funnel_counts = (\n",
    "    df.groupby('event')\n",
    "    .agg(users=('user_id', 'nunique'))\n",
    "    .reindex(funnel_stages)\n",
    "    .reset_index()\n",
    ")\n",
    "\n",
    "funnel_counts['conversion_rate'] = (\n",
    "    funnel_counts['users'] / funnel_counts['users'].iloc[0]\n",
    ").round(3)\n",
    "\n",
    "\n",
    "funnel_counts['drop_off_pct'] = (\n",
    "    (1 - funnel_counts['users'] / funnel_counts['users'].shift(1).fillna(funnel_counts['users'].iloc[0])) * 100\n",
    ").round(1).fillna(0)\n",
    "\n",
    "\n",
    "funnel_counts.to_csv('funnel_metrics.csv', index=False)\n",
    "print(\"Funnel metrics calculated:\")\n",
    "print(funnel_counts)\n",
    "\n",
    "\n",
    "overall_conversion = funnel_counts.iloc[-1]['users'] / funnel_counts.iloc[0]['users']\n",
    "print(f\"\\nOverall conversion rate: {overall_conversion:.1%}\")\n",
    "\n",
    "\n",
    "max_drop_idx = funnel_counts['drop_off_pct'].idxmax()\n",
    "max_drop_stage = funnel_counts.loc[max_drop_idx, 'event']\n",
    "max_drop_pct = funnel_counts.loc[max_drop_idx, 'drop_off_pct']\n",
    "print(f\"Biggest drop-off at: {max_drop_stage} ({max_drop_pct}%)\")"
   ]
  }
 ],
 "metadata": {
  "kernelspec": {
   "display_name": "base",
   "language": "python",
   "name": "python3"
  },
  "language_info": {
   "codemirror_mode": {
    "name": "ipython",
    "version": 3
   },
   "file_extension": ".py",
   "mimetype": "text/x-python",
   "name": "python",
   "nbconvert_exporter": "python",
   "pygments_lexer": "ipython3",
   "version": "3.12.2"
  }
 },
 "nbformat": 4,
 "nbformat_minor": 2
}

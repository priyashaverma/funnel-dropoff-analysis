{
 "cells": [
  {
   "cell_type": "code",
   "execution_count": null,
   "metadata": {},
   "outputs": [
    {
     "name": "stdout",
     "output_type": "stream",
     "text": [
      "Loading dataset...\n",
      "Sorting data...\n",
      "Calculating completion status...\n",
      "Calculating time differences...\n",
      "Preprocessing complete!\n",
      "Processed data shape: (11495, 9)\n",
      "    user_id         event           timestamp   device  traffic_source  \\\n",
      "0    user_1  landing_page 2023-05-21 04:38:00   Tablet           Email   \n",
      "1    user_1  product_view 2023-05-21 05:00:00   Tablet           Email   \n",
      "2    user_1   add_to_cart 2023-05-21 05:19:00   Tablet           Email   \n",
      "21  user_10  landing_page 2023-06-10 16:07:00  Desktop  Organic Search   \n",
      "22  user_10  product_view 2023-06-10 16:52:00  Desktop  Organic Search   \n",
      "\n",
      "   country  stage_num  max_stage    time_to_next  \n",
      "0       CA          1          3 0 days 00:22:00  \n",
      "1       CA          2          3 0 days 00:19:00  \n",
      "2       CA          3          3             NaT  \n",
      "21      AU          1          5 0 days 00:45:00  \n",
      "22      AU          2          5 0 days 00:19:00  \n"
     ]
    }
   ],
   "source": [
    "\n",
    "import pandas as pd\n",
    "\n",
    "\n",
    "print(\"Loading dataset...\")\n",
    "df = pd.read_csv('funnel_data.csv', parse_dates=['timestamp'])\n",
    "\n",
    "\n",
    "print(\"Sorting data...\")\n",
    "df = df.sort_values(['user_id', 'timestamp'])\n",
    "\n",
    "\n",
    "funnel_stages = [\n",
    "    'landing_page',\n",
    "    'product_view',\n",
    "    'add_to_cart',\n",
    "    'checkout_start',\n",
    "    'purchase_complete'\n",
    "]\n",
    "stage_map = {stage: i+1 for i, stage in enumerate(funnel_stages)}\n",
    "df['stage_num'] = df['event'].map(stage_map)\n",
    "\n",
    "\n",
    "print(\"Calculating completion status...\")\n",
    "df['max_stage'] = df.groupby('user_id')['stage_num'].transform('max')\n",
    "\n",
    "\n",
    "print(\"Calculating time differences...\")\n",
    "df['time_to_next'] = df.groupby('user_id')['timestamp'].diff().shift(-1)\n",
    "\n",
    "\n",
    "df.to_csv('processed_funnel_data.csv', index=False)\n",
    "print(\"Preprocessing complete!\")\n",
    "print(f\"Processed data shape: {df.shape}\")\n",
    "print(df.head())"
   ]
  }
 ],
 "metadata": {
  "kernelspec": {
   "display_name": "base",
   "language": "python",
   "name": "python3"
  },
  "language_info": {
   "codemirror_mode": {
    "name": "ipython",
    "version": 3
   },
   "file_extension": ".py",
   "mimetype": "text/x-python",
   "name": "python",
   "nbconvert_exporter": "python",
   "pygments_lexer": "ipython3",
   "version": "3.12.2"
  }
 },
 "nbformat": 4,
 "nbformat_minor": 2
}
